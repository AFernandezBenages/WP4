{
 "cells": [
  {
   "cell_type": "markdown",
   "metadata": {},
   "source": [
    "# Petición a la API de weatherbit "
   ]
  },
  {
   "cell_type": "code",
   "execution_count": 1,
   "metadata": {},
   "outputs": [],
   "source": [
    "import requests\n",
    "import json\n",
    "import pandas as pd\n",
    "import os"
   ]
  },
  {
   "cell_type": "code",
   "execution_count": 2,
   "metadata": {},
   "outputs": [],
   "source": [
    "# Tu clave de API de Weatherbit\n",
    "\n",
    "#params\n",
    "lat = 41.32062    # casal de la montserratina\n",
    "lon = 2.0105984   # casal de la montserratina\n",
    "start_date = '2023-01-01'\n",
    "end_date = '2023-12-31'\n",
    "key = '721fef6a25f1470bbd45601158e5c711'   # Tu clave de API de Weatherbit\n",
    "\n",
    "# URL base de la API de Weatherbit\n",
    "history_hourly_URL = 'https://api.weatherbit.io/v2.0/history/hourly?lat={}&lon={}&start_date={}&end_date={}&tz=local&key={}'.format(lat, lon, start_date, end_date, key)\n",
    "     "
   ]
  },
  {
   "cell_type": "code",
   "execution_count": 3,
   "metadata": {},
   "outputs": [
    {
     "name": "stdout",
     "output_type": "stream",
     "text": [
      "{'app_temp': 11, 'azimuth': 323.5, 'clouds': 62, 'datetime': '2022-12-31:23', 'dewpt': 7.9, 'dhi': 0, 'dni': 0, 'elev_angle': -68.4, 'ghi': 0, 'h_angle': None, 'pod': 'n', 'precip': 0, 'pres': 1025, 'revision_status': 'final', 'rh': 81, 'slp': 1026, 'snow': 0, 'solar_rad': 0, 'temp': 11, 'timestamp_local': '2023-01-01T00:00:00', 'timestamp_utc': '2022-12-31T23:00:00', 'ts': 1672527600, 'uv': 0, 'vis': 16, 'weather': {'icon': 'c03n', 'description': 'Broken clouds', 'code': 803}, 'wind_dir': 315, 'wind_gust_spd': 4, 'wind_spd': 2}\n"
     ]
    }
   ],
   "source": [
    "# Realizar la solicitud GET a la API de Weatherbit\n",
    "response = requests.get(history_hourly_URL)\n",
    "\n",
    "# Verificar si la solicitud fue exitosa (código de estado 200)\n",
    "if response.status_code == 200:\n",
    "    # Convertir la respuesta a formato JSON\n",
    "    data = response.json()\n",
    "    \n",
    "    # Imprimir la respuesta (en este ejemplo, solo mostramos el primer resultado)\n",
    "    print(data['data'][0])\n",
    "else:\n",
    "    # Si la solicitud no fue exitosa, imprimir el mensaje de error\n",
    "    print(\"Error al realizar la solicitud:\", response.status_code)"
   ]
  },
  {
   "cell_type": "code",
   "execution_count": 13,
   "metadata": {},
   "outputs": [
    {
     "ename": "FileNotFoundError",
     "evalue": "[Errno 2] No such file or directory: '../data/data_casal_montserratina/hourly_weather_lat=41.32062&lon=2.0105984&start_date=2023-01-01&end_date=2023-12-31.json'",
     "output_type": "error",
     "traceback": [
      "\u001b[1;31m---------------------------------------------------------------------------\u001b[0m",
      "\u001b[1;31mFileNotFoundError\u001b[0m                         Traceback (most recent call last)",
      "Cell \u001b[1;32mIn[13], line 8\u001b[0m\n\u001b[0;32m      3\u001b[0m ruta_completa \u001b[38;5;241m=\u001b[39m os\u001b[38;5;241m.\u001b[39mpath\u001b[38;5;241m.\u001b[39mjoin(ruta, nombre_archivo)\n\u001b[0;32m      7\u001b[0m \u001b[38;5;66;03m# Guarda el diccionario como JSON en el archivo\u001b[39;00m\n\u001b[1;32m----> 8\u001b[0m \u001b[38;5;28;01mwith\u001b[39;00m \u001b[38;5;28;43mopen\u001b[39;49m\u001b[43m(\u001b[49m\u001b[43mruta_completa\u001b[49m\u001b[43m,\u001b[49m\u001b[43m \u001b[49m\u001b[38;5;124;43m'\u001b[39;49m\u001b[38;5;124;43mw\u001b[39;49m\u001b[38;5;124;43m'\u001b[39;49m\u001b[43m)\u001b[49m \u001b[38;5;28;01mas\u001b[39;00m archivo:\n\u001b[0;32m      9\u001b[0m     json\u001b[38;5;241m.\u001b[39mdump(data, archivo)\n\u001b[0;32m     11\u001b[0m \u001b[38;5;28mprint\u001b[39m(\u001b[38;5;124m\"\u001b[39m\u001b[38;5;124mArchivo .JSON guardado correctamente.\u001b[39m\u001b[38;5;124m\"\u001b[39m)\n",
      "File \u001b[1;32mc:\\Users\\afernandez\\AppData\\Local\\Programs\\Python\\Python312\\Lib\\site-packages\\IPython\\core\\interactiveshell.py:324\u001b[0m, in \u001b[0;36m_modified_open\u001b[1;34m(file, *args, **kwargs)\u001b[0m\n\u001b[0;32m    317\u001b[0m \u001b[38;5;28;01mif\u001b[39;00m file \u001b[38;5;129;01min\u001b[39;00m {\u001b[38;5;241m0\u001b[39m, \u001b[38;5;241m1\u001b[39m, \u001b[38;5;241m2\u001b[39m}:\n\u001b[0;32m    318\u001b[0m     \u001b[38;5;28;01mraise\u001b[39;00m \u001b[38;5;167;01mValueError\u001b[39;00m(\n\u001b[0;32m    319\u001b[0m         \u001b[38;5;124mf\u001b[39m\u001b[38;5;124m\"\u001b[39m\u001b[38;5;124mIPython won\u001b[39m\u001b[38;5;124m'\u001b[39m\u001b[38;5;124mt let you open fd=\u001b[39m\u001b[38;5;132;01m{\u001b[39;00mfile\u001b[38;5;132;01m}\u001b[39;00m\u001b[38;5;124m by default \u001b[39m\u001b[38;5;124m\"\u001b[39m\n\u001b[0;32m    320\u001b[0m         \u001b[38;5;124m\"\u001b[39m\u001b[38;5;124mas it is likely to crash IPython. If you know what you are doing, \u001b[39m\u001b[38;5;124m\"\u001b[39m\n\u001b[0;32m    321\u001b[0m         \u001b[38;5;124m\"\u001b[39m\u001b[38;5;124myou can use builtins\u001b[39m\u001b[38;5;124m'\u001b[39m\u001b[38;5;124m open.\u001b[39m\u001b[38;5;124m\"\u001b[39m\n\u001b[0;32m    322\u001b[0m     )\n\u001b[1;32m--> 324\u001b[0m \u001b[38;5;28;01mreturn\u001b[39;00m \u001b[43mio_open\u001b[49m\u001b[43m(\u001b[49m\u001b[43mfile\u001b[49m\u001b[43m,\u001b[49m\u001b[43m \u001b[49m\u001b[38;5;241;43m*\u001b[39;49m\u001b[43margs\u001b[49m\u001b[43m,\u001b[49m\u001b[43m \u001b[49m\u001b[38;5;241;43m*\u001b[39;49m\u001b[38;5;241;43m*\u001b[39;49m\u001b[43mkwargs\u001b[49m\u001b[43m)\u001b[49m\n",
      "\u001b[1;31mFileNotFoundError\u001b[0m: [Errno 2] No such file or directory: '../data/data_casal_montserratina/hourly_weather_lat=41.32062&lon=2.0105984&start_date=2023-01-01&end_date=2023-12-31.json'"
     ]
    }
   ],
   "source": [
    "nombre_archivo = \"hourly_weather_lat={}&lon={}&start_date={}&end_date={}.json\".format(lat, lon, start_date, end_date)\n",
    "ruta = \"../data/data_casal_montserratina/\"\n",
    "ruta_completa = os.path.join(ruta, nombre_archivo)\n",
    "\n",
    "\n",
    "\n",
    "# Guarda el diccionario como JSON en el archivo\n",
    "with open(ruta_completa, 'w') as archivo:\n",
    "    json.dump(data, archivo)\n",
    "\n",
    "print(\"Archivo .JSON guardado correctamente.\")"
   ]
  },
  {
   "cell_type": "markdown",
   "metadata": {},
   "source": [
    "# Lectura .JSON y desarollo del Dataframe"
   ]
  },
  {
   "cell_type": "code",
   "execution_count": null,
   "metadata": {},
   "outputs": [],
   "source": [
    "def load_json_file(ruta, nombre_archivo):\n",
    "\n",
    "    # Concatenamos la ruta completa\n",
    "    ruta_completa = os.path.join(ruta, nombre_archivo)\n",
    "\n",
    "    # Abrimos el archivo y cargamos el JSON\n",
    "    with open(ruta_completa) as archivo:\n",
    "        datos = json.load(archivo)\n",
    "\n",
    "    # Ahora `datos` contiene el contenido del archivo JSON\n",
    "    # Puedes acceder a los datos como diccionario\n",
    "    return datos"
   ]
  },
  {
   "cell_type": "code",
   "execution_count": null,
   "metadata": {},
   "outputs": [],
   "source": [
    "def format_df (json):\n",
    "    # convert to DataFrame\n",
    "    datos = json[\"data\"] # Extraer los datos de la clave \"data\"\n",
    "\n",
    "    # Convertir a DataFrame\n",
    "    dataframe = pd.DataFrame(datos)\n",
    "\n",
    "    # vienen muchas columnas, solo interesa quedarme con algunas\n",
    "    columnas_deseadas = [\"timestamp_local\", \"timestamp_utc\", \"temp\", \"wind_spd\", \"dhi\", \"ghi\", \"dni\"]\n",
    "\n",
    "    # Seleccionar solo las columnas deseadas\n",
    "    dataframe = dataframe.loc[:, columnas_deseadas]\n",
    "\n",
    "    return dataframe"
   ]
  },
  {
   "cell_type": "code",
   "execution_count": null,
   "metadata": {},
   "outputs": [],
   "source": [
    "# Load the JSON file\n",
    "\n",
    "ruta = \"../data/data_casal_montserratina/\"\n",
    "nombre_archivo_2022 = \"hourly_weather_lat=41.32062&lon=2.0105984&start_date=2022-01-01&end_date=2022-12-31.json\"\n",
    "\n",
    "\n",
    "json_2022 = load_json_file(ruta, nombre_archivo_2022)\n",
    "df_2022 = format_df(json_2022)"
   ]
  },
  {
   "cell_type": "code",
   "execution_count": null,
   "metadata": {},
   "outputs": [],
   "source": [
    "df_2022.sample(5)"
   ]
  },
  {
   "cell_type": "code",
   "execution_count": null,
   "metadata": {},
   "outputs": [],
   "source": [
    "nombre_archivo_2023 = \"hourly_weather_lat=41.32062&lon=2.0105984&start_date=2023-01-01&end_date=2023-12-31.json\"\n",
    "\n",
    "json_2023 = load_json_file(ruta, nombre_archivo_2023)\n",
    "df_2023 = format_df(json_2023)"
   ]
  },
  {
   "cell_type": "code",
   "execution_count": null,
   "metadata": {},
   "outputs": [],
   "source": [
    "df_2023.sample(5)"
   ]
  }
 ],
 "metadata": {
  "kernelspec": {
   "display_name": "Python 3",
   "language": "python",
   "name": "python3"
  },
  "language_info": {
   "codemirror_mode": {
    "name": "ipython",
    "version": 3
   },
   "file_extension": ".py",
   "mimetype": "text/x-python",
   "name": "python",
   "nbconvert_exporter": "python",
   "pygments_lexer": "ipython3",
   "version": "3.12.2"
  }
 },
 "nbformat": 4,
 "nbformat_minor": 2
}
