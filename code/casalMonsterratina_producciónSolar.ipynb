{
 "cells": [
  {
   "cell_type": "markdown",
   "metadata": {},
   "source": [
    "# Empiezo por hacer la petición a la API de weatherbit "
   ]
  },
  {
   "cell_type": "code",
   "execution_count": 18,
   "metadata": {},
   "outputs": [],
   "source": [
    "import requests\n",
    "import json\n",
    "import pandas as pd\n",
    "\n"
   ]
  },
  {
   "cell_type": "code",
   "execution_count": 13,
   "metadata": {},
   "outputs": [
    {
     "name": "stdout",
     "output_type": "stream",
     "text": [
      "{'app_temp': 11, 'azimuth': 323.5, 'clouds': 62, 'datetime': '2022-12-31:23', 'dewpt': 7.9, 'dhi': 0, 'dni': 0, 'elev_angle': -68.4, 'ghi': 0, 'h_angle': None, 'pod': 'n', 'precip': 0, 'pres': 1025, 'revision_status': 'final', 'rh': 81, 'slp': 1026, 'snow': 0, 'solar_rad': 0, 'temp': 11, 'timestamp_local': '2023-01-01T00:00:00', 'timestamp_utc': '2022-12-31T23:00:00', 'ts': 1672527600, 'uv': 0, 'vis': 16, 'weather': {'description': 'Broken clouds', 'code': 803, 'icon': 'c03n'}, 'wind_dir': 315, 'wind_gust_spd': 4, 'wind_spd': 2}\n"
     ]
    }
   ],
   "source": [
    "\n",
    "# Tu clave de API de Weatherbit\n",
    "api_key = '721fef6a25f1470bbd45601158e5c711'\n",
    "\n",
    "# URL base de la API de Weatherbit\n",
    "base_url = 'http://api.weatherbit.io/v2.0/history/hourly'\n",
    "\n",
    "# 'http://api.weatherbit.io/v2.0/history/hourly?lat=41.32062&lon=2.0105984&start_date=2022-01-01&end_date=2023-12-31&key=721fef6a25f1470bbd45601158e5c711'\n",
    "#base_url = \n",
    "           \n",
    "\n",
    "URL = \"https://api.weatherbit.io/v2.0/history/hourly?lat=41.32062&lon=2.0105984&start_date=2023-01-01&end_date=2023-12-31&tz=local&key=721fef6a25f1470bbd45601158e5c711\"\n",
    "            \n",
    "# Coordenadas de la ubicación para la que deseas obtener el pronóstico\n",
    "latitud = '41.32062'\n",
    "longitud = '2.0105984'\n",
    "\n",
    "# Parámetros de la solicitud\n",
    "params = {\n",
    "    'lat': latitud,\n",
    "    'lon': longitud,\n",
    "    'key': api_key, \n",
    "#     \"start_date\"= [YYYY-MM-DD OR YYYY-MM-DD:HH] (REQUIRED)\n",
    "# end_date=[YYYY-MM-DD OR YYYY-MM-DD:HH] (REQUIRED)\n",
    "}\n",
    "\n",
    "# Realizar la solicitud GET a la API de Weatherbit\n",
    "#response = requests.get(base_url, params=params)\n",
    "response = requests.get(URL)\n",
    "\n",
    "# Verificar si la solicitud fue exitosa (código de estado 200)\n",
    "if response.status_code == 200:\n",
    "    # Convertir la respuesta a formato JSON\n",
    "    data = response.json()\n",
    "    \n",
    "    # Imprimir la respuesta (en este ejemplo, solo mostramos el primer resultado)\n",
    "    print(data['data'][0])\n",
    "else:\n",
    "    # Si la solicitud no fue exitosa, imprimir el mensaje de error\n",
    "    print(\"Error al realizar la solicitud:\", response.status_code)\n"
   ]
  },
  {
   "cell_type": "code",
   "execution_count": 14,
   "metadata": {},
   "outputs": [
    {
     "name": "stdout",
     "output_type": "stream",
     "text": [
      "Archivo JSON guardado correctamente.\n"
     ]
    }
   ],
   "source": [
    "nombre_archivo = \"lat=41.32062&lon=2.0105984&start_date=2023-01-01&end_date=2023-12-31.json\"\n",
    "\n",
    "# Guarda el diccionario como JSON en el archivo\n",
    "with open(nombre_archivo, 'w') as archivo:\n",
    "    json.dump(data, archivo)\n",
    "\n",
    "print(\"Archivo JSON guardado correctamente.\")"
   ]
  },
  {
   "cell_type": "code",
   "execution_count": 25,
   "metadata": {},
   "outputs": [
    {
     "name": "stdout",
     "output_type": "stream",
     "text": [
      "<bound method Series.to_string of 0    [{'app_temp': 11, 'azimuth': 323.5, 'clouds': ...\n",
      "Name: data, dtype: object>\n"
     ]
    }
   ],
   "source": [
    "# Convertir el JSON en un DataFrame\n",
    "df = pd.DataFrame.from_dict([data])\n",
    "\n",
    "\n",
    "# Imprimir el DataFrame\n",
    "print(df[\"data\"].to_string)"
   ]
  },
  {
   "cell_type": "code",
   "execution_count": 23,
   "metadata": {},
   "outputs": [
    {
     "data": {
      "text/html": [
       "<div>\n",
       "<style scoped>\n",
       "    .dataframe tbody tr th:only-of-type {\n",
       "        vertical-align: middle;\n",
       "    }\n",
       "\n",
       "    .dataframe tbody tr th {\n",
       "        vertical-align: top;\n",
       "    }\n",
       "\n",
       "    .dataframe thead th {\n",
       "        text-align: right;\n",
       "    }\n",
       "</style>\n",
       "<table border=\"1\" class=\"dataframe\">\n",
       "  <thead>\n",
       "    <tr style=\"text-align: right;\">\n",
       "      <th></th>\n",
       "      <th>city_id</th>\n",
       "      <th>city_name</th>\n",
       "      <th>country_code</th>\n",
       "      <th>data</th>\n",
       "      <th>lat</th>\n",
       "      <th>lon</th>\n",
       "      <th>sources</th>\n",
       "      <th>state_code</th>\n",
       "      <th>station_id</th>\n",
       "      <th>timezone</th>\n",
       "      <th>...</th>\n",
       "      <th>8726</th>\n",
       "      <th>8727</th>\n",
       "      <th>8728</th>\n",
       "      <th>8729</th>\n",
       "      <th>8730</th>\n",
       "      <th>8731</th>\n",
       "      <th>8732</th>\n",
       "      <th>8733</th>\n",
       "      <th>8734</th>\n",
       "      <th>8735</th>\n",
       "    </tr>\n",
       "  </thead>\n",
       "  <tbody>\n",
       "    <tr>\n",
       "      <th>0</th>\n",
       "      <td>3105935</td>\n",
       "      <td>Viladecans</td>\n",
       "      <td>ES</td>\n",
       "      <td>[{'app_temp': 11, 'azimuth': 323.5, 'clouds': ...</td>\n",
       "      <td>41.32062</td>\n",
       "      <td>2.010598</td>\n",
       "      <td>[081810-99999, imerg, era5, modis]</td>\n",
       "      <td>56</td>\n",
       "      <td>081810-99999</td>\n",
       "      <td>Europe/Madrid</td>\n",
       "      <td>...</td>\n",
       "      <td>{'app_temp': 15.2, 'azimuth': 196.5, 'clouds':...</td>\n",
       "      <td>{'app_temp': 14.2, 'azimuth': 210.5, 'clouds':...</td>\n",
       "      <td>{'app_temp': 14, 'azimuth': 223, 'clouds': 37,...</td>\n",
       "      <td>{'app_temp': 13.2, 'azimuth': 234.1, 'clouds':...</td>\n",
       "      <td>{'app_temp': 12.2, 'azimuth': 243.9, 'clouds':...</td>\n",
       "      <td>{'app_temp': 11.2, 'azimuth': 253.1, 'clouds':...</td>\n",
       "      <td>{'app_temp': 10.7, 'azimuth': 262, 'clouds': 0...</td>\n",
       "      <td>{'app_temp': 10.7, 'azimuth': 271.5, 'clouds':...</td>\n",
       "      <td>{'app_temp': 10.6, 'azimuth': 282.8, 'clouds':...</td>\n",
       "      <td>{'app_temp': 7.7, 'azimuth': 298.4, 'clouds': ...</td>\n",
       "    </tr>\n",
       "  </tbody>\n",
       "</table>\n",
       "<p>1 rows × 26218 columns</p>\n",
       "</div>"
      ],
      "text/plain": [
       "   city_id   city_name country_code  \\\n",
       "0  3105935  Viladecans           ES   \n",
       "\n",
       "                                                data       lat       lon  \\\n",
       "0  [{'app_temp': 11, 'azimuth': 323.5, 'clouds': ...  41.32062  2.010598   \n",
       "\n",
       "                              sources state_code    station_id       timezone  \\\n",
       "0  [081810-99999, imerg, era5, modis]         56  081810-99999  Europe/Madrid   \n",
       "\n",
       "   ...                                               8726  \\\n",
       "0  ...  {'app_temp': 15.2, 'azimuth': 196.5, 'clouds':...   \n",
       "\n",
       "                                                8727  \\\n",
       "0  {'app_temp': 14.2, 'azimuth': 210.5, 'clouds':...   \n",
       "\n",
       "                                                8728  \\\n",
       "0  {'app_temp': 14, 'azimuth': 223, 'clouds': 37,...   \n",
       "\n",
       "                                                8729  \\\n",
       "0  {'app_temp': 13.2, 'azimuth': 234.1, 'clouds':...   \n",
       "\n",
       "                                                8730  \\\n",
       "0  {'app_temp': 12.2, 'azimuth': 243.9, 'clouds':...   \n",
       "\n",
       "                                                8731  \\\n",
       "0  {'app_temp': 11.2, 'azimuth': 253.1, 'clouds':...   \n",
       "\n",
       "                                                8732  \\\n",
       "0  {'app_temp': 10.7, 'azimuth': 262, 'clouds': 0...   \n",
       "\n",
       "                                                8733  \\\n",
       "0  {'app_temp': 10.7, 'azimuth': 271.5, 'clouds':...   \n",
       "\n",
       "                                                8734  \\\n",
       "0  {'app_temp': 10.6, 'azimuth': 282.8, 'clouds':...   \n",
       "\n",
       "                                                8735  \n",
       "0  {'app_temp': 7.7, 'azimuth': 298.4, 'clouds': ...  \n",
       "\n",
       "[1 rows x 26218 columns]"
      ]
     },
     "execution_count": 23,
     "metadata": {},
     "output_type": "execute_result"
    }
   ],
   "source": [
    "# Usa pd.json_normalize para expandir el JSON en nuevas columnas\n",
    "df_expandido = pd.json_normalize(df['data'])\n",
    "\n",
    "# Concatena las nuevas columnas al DataFrame original\n",
    "df = pd.concat([df, df_expandido], axis=1)\n",
    "\n",
    "df.head()"
   ]
  }
 ],
 "metadata": {
  "kernelspec": {
   "display_name": "Python 3",
   "language": "python",
   "name": "python3"
  },
  "language_info": {
   "codemirror_mode": {
    "name": "ipython",
    "version": 3
   },
   "file_extension": ".py",
   "mimetype": "text/x-python",
   "name": "python",
   "nbconvert_exporter": "python",
   "pygments_lexer": "ipython3",
   "version": "3.12.2"
  }
 },
 "nbformat": 4,
 "nbformat_minor": 2
}
