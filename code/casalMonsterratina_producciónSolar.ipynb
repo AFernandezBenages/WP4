{
 "cells": [
  {
   "cell_type": "markdown",
   "metadata": {},
   "source": [
    "# Empiezo por hacer la petición a la API de weatherbit "
   ]
  },
  {
   "cell_type": "code",
   "execution_count": 2,
   "metadata": {},
   "outputs": [],
   "source": [
    "import requests\n"
   ]
  },
  {
   "cell_type": "code",
   "execution_count": 4,
   "metadata": {},
   "outputs": [
    {
     "name": "stdout",
     "output_type": "stream",
     "text": [
      "Error al realizar la solicitud: 400\n"
     ]
    }
   ],
   "source": [
    "\n",
    "# Tu clave de API de Weatherbit\n",
    "api_key = '721fef6a25f1470bbd45601158e5c711'\n",
    "\n",
    "# URL base de la API de Weatherbit\n",
    "base_url = 'http://api.weatherbit.io/v2.0/history/hourly?lat=41.32062&lon=2.0105984&start_date=2022-01-01&end_date=2023-12-31&key=721fef6a25f1470bbd45601158e5c711'\n",
    "\n",
    "#base_url = 'http://api.weatherbit.io/v2.0/history/hourly'\n",
    "           \n",
    "            \n",
    "# Coordenadas de la ubicación para la que deseas obtener el pronóstico\n",
    "latitud = '41.32062'\n",
    "longitud = '2.0105984'\n",
    "\n",
    "# Parámetros de la solicitud\n",
    "params = {\n",
    "    'lat': latitud,\n",
    "    'lon': longitud,\n",
    "    'key': api_key\n",
    "}\n",
    "\n",
    "# Realizar la solicitud GET a la API de Weatherbit\n",
    "response = requests.get(base_url) #, params=params)\n",
    "\n",
    "# Verificar si la solicitud fue exitosa (código de estado 200)\n",
    "if response.status_code == 200:\n",
    "    # Convertir la respuesta a formato JSON\n",
    "    data = response.json()\n",
    "    \n",
    "    # Imprimir la respuesta (en este ejemplo, solo mostramos el primer resultado)\n",
    "    print(data['data'][0])\n",
    "else:\n",
    "    # Si la solicitud no fue exitosa, imprimir el mensaje de error\n",
    "    print(\"Error al realizar la solicitud:\", response.status_code)\n"
   ]
  }
 ],
 "metadata": {
  "kernelspec": {
   "display_name": "Python 3",
   "language": "python",
   "name": "python3"
  },
  "language_info": {
   "codemirror_mode": {
    "name": "ipython",
    "version": 3
   },
   "file_extension": ".py",
   "mimetype": "text/x-python",
   "name": "python",
   "nbconvert_exporter": "python",
   "pygments_lexer": "ipython3",
   "version": "3.12.2"
  }
 },
 "nbformat": 4,
 "nbformat_minor": 2
}
