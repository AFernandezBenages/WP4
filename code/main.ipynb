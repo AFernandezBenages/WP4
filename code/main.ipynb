{
 "cells": [
  {
   "cell_type": "code",
   "execution_count": null,
   "metadata": {},
   "outputs": [],
   "source": [
    "import pandas as pd\n",
    "import numpy as np\n",
    "import seaborn as sns\n",
    "from datetime import timedelta\n",
    "import matplotlib.pyplot as plt\n",
    "%matplotlib inline\n",
    "\n",
    "parameters = {\n",
    "    \"paths\": {\n",
    "        \"meteo\": \"../data/barcelona_meteo.csv\",\n",
    "        \"demand\": \"../data/CE_EO_Demanda.xlsx\"\n",
    "    }\n",
    "}"
   ]
  },
  {
   "cell_type": "code",
   "execution_count": null,
   "metadata": {},
   "outputs": [],
   "source": [
    "demand_df = pd.read_excel(parameters[\"paths\"][\"demand\"], sheet_name=\"Demanda\")\n",
    "print(f\"Number of rows: {demand_df.shape[0]}\")\n",
    "demand_df.head(5)"
   ]
  },
  {
   "cell_type": "code",
   "execution_count": null,
   "metadata": {},
   "outputs": [],
   "source": [
    "#Prints the NaN Values per Column of a dataset\n",
    "def checkNaNValues(df):\n",
    "    return print(f\"NaN Count per Column\", df.isna().any(axis=1).sum())\n",
    "checkNaNValues(demand_df)\n",
    "demand_df[\"Date\"] = pd.to_datetime(demand_df[\"Date\"])\n",
    "\n"
   ]
  },
  {
   "cell_type": "code",
   "execution_count": null,
   "metadata": {},
   "outputs": [],
   "source": [
    "#Check Missing Time Data\n",
    "def checkMissingData(df, date_column):\n",
    "    min_date = df[date_column].min()\n",
    "    max_date = df[date_column].max()\n",
    "\n",
    "    date_range = pd.date_range(start=min_date, end=max_date, freq='15T')\n",
    "\n",
    "    missing_dates = date_range[~date_range.isin(df[date_column])]\n",
    "    print(f\"Number of Missing Values: {missing_dates.shape[0]}\")\n",
    "    return None if missing_dates.shape[0] == 0 else missing_dates\n",
    "missing_data = checkMissingData(demand_df, \"Date\")\n",
    "#No Missing Values in demand_df"
   ]
  },
  {
   "cell_type": "code",
   "execution_count": null,
   "metadata": {},
   "outputs": [],
   "source": [
    "meteo_df = pd.read_csv(parameters[\"paths\"][\"meteo\"])\n",
    "print(f\"Number of rows: {demand_df.shape[0]}\")\n",
    "meteo_df[\"date\"] = pd.to_datetime(meteo_df[\"date\"], format='%m/%d/%y %H:%M')\n",
    "meteo_df.head(5)\n"
   ]
  },
  {
   "cell_type": "code",
   "execution_count": null,
   "metadata": {},
   "outputs": [],
   "source": [
    "checkNaNValues(meteo_df)\n",
    "meteo_df.set_index('date', inplace=True)\n",
    "meteo_resampled_df = meteo_df.resample('15T').asfreq()\n",
    "meteo_resampled_df.reset_index(inplace=True)"
   ]
  },
  {
   "cell_type": "code",
   "execution_count": null,
   "metadata": {},
   "outputs": [],
   "source": [
    "meteo_resampled_df.head(10)\n",
    "missing_meteo_data = checkMissingData(meteo_resampled_df, \"date\")"
   ]
  },
  {
   "cell_type": "code",
   "execution_count": null,
   "metadata": {},
   "outputs": [],
   "source": [
    "#Data Interpolation\n",
    "def interpolateData(df, columns, method):\n",
    "    interpolated_df = df.copy()\n",
    "    for col in columns:\n",
    "        interpolated_df[col] = interpolated_df[col].interpolate(method=method)\n",
    "    return interpolated_df\n",
    "columns2interpolate = meteo_resampled_df.columns.drop(\"date\")\n",
    "print(meteo_resampled_df.head(10))\n",
    "df_interpolated = interpolateData(meteo_resampled_df, columns2interpolate, 'linear')\n",
    "print(\"------------------Interpolation------------------\")\n",
    "print(\"Hola\")\n",
    "df_interpolated.head(10)\n"
   ]
  },
  {
   "cell_type": "code",
   "execution_count": null,
   "metadata": {},
   "outputs": [],
   "source": [
    "#Outliers \n",
    "def getNumberOfOutliersPerColumn(df, columns_list):\n",
    "    for col in columns_list:\n",
    "        q1 = df[col].quantile(0.25)\n",
    "        q3 = df[col].quantile(0.75)\n",
    "        iqr = q3 - q1\n",
    "\n",
    "        #Calcular los límites inferiores y superiores para identificar outliers\n",
    "        lim_inf = q1 - 1.5 * iqr\n",
    "        lim_sup = q3 + 1.5 * iqr\n",
    "\n",
    "        outliers = ((df[col] < lim_inf) | (df[col] > lim_sup))\n",
    "        #print(outliers.index[outliers])\n",
    "        print(f\"For {col} Column, the Number of Outliers is {outliers.sum()}\\n\")\n",
    "\n",
    "getNumberOfOutliersPerColumn(df_interpolated, columns2interpolate)"
   ]
  },
  {
   "cell_type": "code",
   "execution_count": null,
   "metadata": {},
   "outputs": [],
   "source": [
    "start_date = df_interpolated['date'].min()\n",
    "end_date = start_date + timedelta(days=7)\n",
    "df_week1 = df_interpolated.loc[(df_interpolated['date'] >= start_date) & (df_interpolated['date'] <= end_date)]\n",
    "\n",
    "plt.figure(figsize=(12, 6))\n",
    "plt.plot(df_week1['Temperatura'], label='Duración Radiación')\n",
    "plt.title('Temperatura Semana 1')\n",
    "plt.xlabel('Delta 15 mins')\n",
    "plt.ylabel('Grados Cº')\n",
    "plt.legend()\n",
    "\n",
    "plt.show()"
   ]
  },
  {
   "cell_type": "code",
   "execution_count": null,
   "metadata": {},
   "outputs": [],
   "source": [
    "getNumberOfOutliersPerColumn(df_interpolated, columns2interpolate)"
   ]
  }
 ],
 "metadata": {
  "kernelspec": {
   "display_name": "Python 3",
   "language": "python",
   "name": "python3"
  },
  "language_info": {
   "codemirror_mode": {
    "name": "ipython",
    "version": 3
   },
   "file_extension": ".py",
   "mimetype": "text/x-python",
   "name": "python",
   "nbconvert_exporter": "python",
   "pygments_lexer": "ipython3",
   "version": "3.12.2"
  }
 },
 "nbformat": 4,
 "nbformat_minor": 2
}
