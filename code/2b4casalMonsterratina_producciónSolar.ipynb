{
 "cells": [
  {
   "cell_type": "markdown",
   "metadata": {},
   "source": [
    "# Petición a la API de weatherbit "
   ]
  },
  {
   "cell_type": "code",
   "execution_count": 1,
   "metadata": {},
   "outputs": [],
   "source": [
    "import requests\n",
    "import json\n",
    "import pandas as pd\n",
    "import os"
   ]
  },
  {
   "cell_type": "code",
   "execution_count": 2,
   "metadata": {},
   "outputs": [],
   "source": [
    "# Tu clave de API de Weatherbit\n",
    "\n",
    "#params\n",
    "lat = 41.32062    # casal de la montserratina\n",
    "lon = 2.0105984   # casal de la montserratina\n",
    "start_date = '2023-01-01'\n",
    "end_date = '2023-12-31'\n",
    "key = '721fef6a25f1470bbd45601158e5c711'   # Tu clave de API de Weatherbit\n",
    "\n",
    "# URL base de la API de Weatherbit\n",
    "history_hourly_URL = 'https://api.weatherbit.io/v2.0/history/hourly?lat={}&lon={}&start_date={}&end_date={}&tz=local&key={}'.format(lat, lon, start_date, end_date, key)\n",
    "     "
   ]
  },
  {
   "cell_type": "code",
   "execution_count": 3,
   "metadata": {},
   "outputs": [
    {
     "name": "stdout",
     "output_type": "stream",
     "text": [
      "{'app_temp': 11, 'azimuth': 323.5, 'clouds': 62, 'datetime': '2022-12-31:23', 'dewpt': 7.9, 'dhi': 0, 'dni': 0, 'elev_angle': -68.4, 'ghi': 0, 'h_angle': None, 'pod': 'n', 'precip': 0, 'pres': 1025, 'revision_status': 'final', 'rh': 81, 'slp': 1026, 'snow': 0, 'solar_rad': 0, 'temp': 11, 'timestamp_local': '2023-01-01T00:00:00', 'timestamp_utc': '2022-12-31T23:00:00', 'ts': 1672527600, 'uv': 0, 'vis': 16, 'weather': {'code': 803, 'description': 'Broken clouds', 'icon': 'c03n'}, 'wind_dir': 315, 'wind_gust_spd': 4, 'wind_spd': 2}\n"
     ]
    }
   ],
   "source": [
    "# Realizar la solicitud GET a la API de Weatherbit\n",
    "response = requests.get(history_hourly_URL)\n",
    "\n",
    "# Verificar si la solicitud fue exitosa (código de estado 200)\n",
    "if response.status_code == 200:\n",
    "    # Convertir la respuesta a formato JSON\n",
    "    data = response.json()\n",
    "    \n",
    "    # Imprimir la respuesta (en este ejemplo, solo mostramos el primer resultado)\n",
    "    print(data['data'][0])\n",
    "else:\n",
    "    # Si la solicitud no fue exitosa, imprimir el mensaje de error\n",
    "    print(\"Error al realizar la solicitud:\", response.status_code)"
   ]
  },
  {
   "cell_type": "code",
   "execution_count": 4,
   "metadata": {},
   "outputs": [
    {
     "name": "stdout",
     "output_type": "stream",
     "text": [
      "Archivo .JSON guardado correctamente.\n"
     ]
    }
   ],
   "source": [
    "nombre_archivo = \"hourly_weather_lat={}&lon={}&start_date={}&end_date={}.json\".format(lat, lon, start_date, end_date)\n",
    "ruta = \"../data/data_casal_montserratina/\"\n",
    "ruta_completa = os.path.join(ruta, nombre_archivo)\n",
    "\n",
    "# Guarda el diccionario como JSON en el archivo\n",
    "with open(ruta_completa, 'w') as archivo:\n",
    "    json.dump(data, archivo)\n",
    "\n",
    "print(\"Archivo .JSON guardado correctamente.\")"
   ]
  },
  {
   "cell_type": "markdown",
   "metadata": {},
   "source": [
    "# Lectura .JSON y desarollo del Dataframe"
   ]
  },
  {
   "cell_type": "code",
   "execution_count": 5,
   "metadata": {},
   "outputs": [],
   "source": [
    "def load_json_file(ruta, nombre_archivo):\n",
    "\n",
    "    # Concatenamos la ruta completa\n",
    "    ruta_completa = os.path.join(ruta, nombre_archivo)\n",
    "\n",
    "    # Abrimos el archivo y cargamos el JSON\n",
    "    with open(ruta_completa) as archivo:\n",
    "        datos = json.load(archivo)\n",
    "\n",
    "    # Ahora `datos` contiene el contenido del archivo JSON\n",
    "    # Puedes acceder a los datos como diccionario\n",
    "    return datos"
   ]
  },
  {
   "cell_type": "code",
   "execution_count": 6,
   "metadata": {},
   "outputs": [],
   "source": [
    "def format_df (json):\n",
    "    # convert to DataFrame\n",
    "    datos = json[\"data\"] # Extraer los datos de la clave \"data\"\n",
    "\n",
    "    # Convertir a DataFrame\n",
    "    dataframe = pd.DataFrame(datos)\n",
    "\n",
    "    # vienen muchas columnas, solo interesa quedarme con algunas\n",
    "    columnas_deseadas = [\"timestamp_local\", \"timestamp_utc\", \"temp\", \"wind_spd\", \"dhi\", \"ghi\", \"dni\"]\n",
    "\n",
    "    # Seleccionar solo las columnas deseadas\n",
    "    dataframe = dataframe.loc[:, columnas_deseadas]\n",
    "\n",
    "    return dataframe"
   ]
  },
  {
   "cell_type": "code",
   "execution_count": 12,
   "metadata": {},
   "outputs": [],
   "source": [
    "# Load the JSON file\n",
    "\n",
    "ruta = \"../data/data_casal_montserratina/\"\n",
    "nombre_archivo_2022 = \"hourly_weather_lat=41.32062&lon=2.0105984&start_date=2022-01-01&end_date=2022-12-31.json\"\n",
    "\n",
    "json_2022 = load_json_file(ruta, nombre_archivo_2022)\n",
    "df_2022 = format_df(json_2022)"
   ]
  },
  {
   "cell_type": "code",
   "execution_count": 21,
   "metadata": {},
   "outputs": [
    {
     "data": {
      "text/html": [
       "<div>\n",
       "<style scoped>\n",
       "    .dataframe tbody tr th:only-of-type {\n",
       "        vertical-align: middle;\n",
       "    }\n",
       "\n",
       "    .dataframe tbody tr th {\n",
       "        vertical-align: top;\n",
       "    }\n",
       "\n",
       "    .dataframe thead th {\n",
       "        text-align: right;\n",
       "    }\n",
       "</style>\n",
       "<table border=\"1\" class=\"dataframe\">\n",
       "  <thead>\n",
       "    <tr style=\"text-align: right;\">\n",
       "      <th></th>\n",
       "      <th>timestamp_local</th>\n",
       "      <th>timestamp_utc</th>\n",
       "      <th>temp</th>\n",
       "      <th>wind_spd</th>\n",
       "      <th>dhi</th>\n",
       "      <th>ghi</th>\n",
       "      <th>dni</th>\n",
       "    </tr>\n",
       "  </thead>\n",
       "  <tbody>\n",
       "    <tr>\n",
       "      <th>371</th>\n",
       "      <td>2022-01-16T11:00:00</td>\n",
       "      <td>2022-01-16T10:00:00</td>\n",
       "      <td>6.5</td>\n",
       "      <td>5.70</td>\n",
       "      <td>83</td>\n",
       "      <td>341</td>\n",
       "      <td>718</td>\n",
       "    </tr>\n",
       "    <tr>\n",
       "      <th>6632</th>\n",
       "      <td>2022-10-04T09:00:00</td>\n",
       "      <td>2022-10-04T07:00:00</td>\n",
       "      <td>18.7</td>\n",
       "      <td>2.10</td>\n",
       "      <td>58</td>\n",
       "      <td>155</td>\n",
       "      <td>520</td>\n",
       "    </tr>\n",
       "    <tr>\n",
       "      <th>1416</th>\n",
       "      <td>2022-03-01T00:00:00</td>\n",
       "      <td>2022-02-28T23:00:00</td>\n",
       "      <td>11.7</td>\n",
       "      <td>4.09</td>\n",
       "      <td>0</td>\n",
       "      <td>0</td>\n",
       "      <td>0</td>\n",
       "    </tr>\n",
       "    <tr>\n",
       "      <th>7555</th>\n",
       "      <td>2022-11-11T19:00:00</td>\n",
       "      <td>2022-11-11T18:00:00</td>\n",
       "      <td>20.1</td>\n",
       "      <td>8.19</td>\n",
       "      <td>0</td>\n",
       "      <td>0</td>\n",
       "      <td>0</td>\n",
       "    </tr>\n",
       "    <tr>\n",
       "      <th>2713</th>\n",
       "      <td>2022-04-24T02:00:00</td>\n",
       "      <td>2022-04-24T00:00:00</td>\n",
       "      <td>12.2</td>\n",
       "      <td>7.20</td>\n",
       "      <td>0</td>\n",
       "      <td>0</td>\n",
       "      <td>0</td>\n",
       "    </tr>\n",
       "  </tbody>\n",
       "</table>\n",
       "</div>"
      ],
      "text/plain": [
       "          timestamp_local        timestamp_utc  temp  wind_spd  dhi  ghi  dni\n",
       "371   2022-01-16T11:00:00  2022-01-16T10:00:00   6.5      5.70   83  341  718\n",
       "6632  2022-10-04T09:00:00  2022-10-04T07:00:00  18.7      2.10   58  155  520\n",
       "1416  2022-03-01T00:00:00  2022-02-28T23:00:00  11.7      4.09    0    0    0\n",
       "7555  2022-11-11T19:00:00  2022-11-11T18:00:00  20.1      8.19    0    0    0\n",
       "2713  2022-04-24T02:00:00  2022-04-24T00:00:00  12.2      7.20    0    0    0"
      ]
     },
     "execution_count": 21,
     "metadata": {},
     "output_type": "execute_result"
    }
   ],
   "source": [
    "df_2022.sample(5)"
   ]
  },
  {
   "cell_type": "code",
   "execution_count": 15,
   "metadata": {},
   "outputs": [],
   "source": [
    "nombre_archivo_2023 = \"hourly_weather_lat=41.32062&lon=2.0105984&start_date=2023-01-01&end_date=2023-12-31.json\"\n",
    "\n",
    "json_2023 = load_json_file(ruta, nombre_archivo_2023)\n",
    "df_2023 = format_df(json_2023)"
   ]
  },
  {
   "cell_type": "code",
   "execution_count": 22,
   "metadata": {},
   "outputs": [
    {
     "data": {
      "text/html": [
       "<div>\n",
       "<style scoped>\n",
       "    .dataframe tbody tr th:only-of-type {\n",
       "        vertical-align: middle;\n",
       "    }\n",
       "\n",
       "    .dataframe tbody tr th {\n",
       "        vertical-align: top;\n",
       "    }\n",
       "\n",
       "    .dataframe thead th {\n",
       "        text-align: right;\n",
       "    }\n",
       "</style>\n",
       "<table border=\"1\" class=\"dataframe\">\n",
       "  <thead>\n",
       "    <tr style=\"text-align: right;\">\n",
       "      <th></th>\n",
       "      <th>timestamp_local</th>\n",
       "      <th>timestamp_utc</th>\n",
       "      <th>temp</th>\n",
       "      <th>wind_spd</th>\n",
       "      <th>dhi</th>\n",
       "      <th>ghi</th>\n",
       "      <th>dni</th>\n",
       "    </tr>\n",
       "  </thead>\n",
       "  <tbody>\n",
       "    <tr>\n",
       "      <th>703</th>\n",
       "      <td>2023-01-30T07:00:00</td>\n",
       "      <td>2023-01-30T06:00:00</td>\n",
       "      <td>2.0</td>\n",
       "      <td>5.09</td>\n",
       "      <td>0</td>\n",
       "      <td>0</td>\n",
       "      <td>0</td>\n",
       "    </tr>\n",
       "    <tr>\n",
       "      <th>3729</th>\n",
       "      <td>2023-06-05T10:00:00</td>\n",
       "      <td>2023-06-05T08:00:00</td>\n",
       "      <td>23.0</td>\n",
       "      <td>2.10</td>\n",
       "      <td>102</td>\n",
       "      <td>607</td>\n",
       "      <td>818</td>\n",
       "    </tr>\n",
       "    <tr>\n",
       "      <th>5301</th>\n",
       "      <td>2023-08-09T22:00:00</td>\n",
       "      <td>2023-08-09T20:00:00</td>\n",
       "      <td>25.7</td>\n",
       "      <td>4.59</td>\n",
       "      <td>0</td>\n",
       "      <td>0</td>\n",
       "      <td>0</td>\n",
       "    </tr>\n",
       "    <tr>\n",
       "      <th>6967</th>\n",
       "      <td>2023-10-18T08:00:00</td>\n",
       "      <td>2023-10-18T06:00:00</td>\n",
       "      <td>19.6</td>\n",
       "      <td>3.60</td>\n",
       "      <td>0</td>\n",
       "      <td>0</td>\n",
       "      <td>0</td>\n",
       "    </tr>\n",
       "    <tr>\n",
       "      <th>3664</th>\n",
       "      <td>2023-06-02T17:00:00</td>\n",
       "      <td>2023-06-02T15:00:00</td>\n",
       "      <td>22.0</td>\n",
       "      <td>4.59</td>\n",
       "      <td>109</td>\n",
       "      <td>717</td>\n",
       "      <td>855</td>\n",
       "    </tr>\n",
       "  </tbody>\n",
       "</table>\n",
       "</div>"
      ],
      "text/plain": [
       "          timestamp_local        timestamp_utc  temp  wind_spd  dhi  ghi  dni\n",
       "703   2023-01-30T07:00:00  2023-01-30T06:00:00   2.0      5.09    0    0    0\n",
       "3729  2023-06-05T10:00:00  2023-06-05T08:00:00  23.0      2.10  102  607  818\n",
       "5301  2023-08-09T22:00:00  2023-08-09T20:00:00  25.7      4.59    0    0    0\n",
       "6967  2023-10-18T08:00:00  2023-10-18T06:00:00  19.6      3.60    0    0    0\n",
       "3664  2023-06-02T17:00:00  2023-06-02T15:00:00  22.0      4.59  109  717  855"
      ]
     },
     "execution_count": 22,
     "metadata": {},
     "output_type": "execute_result"
    }
   ],
   "source": [
    "df_2023.sample(5)"
   ]
  }
 ],
 "metadata": {
  "kernelspec": {
   "display_name": "Python 3",
   "language": "python",
   "name": "python3"
  },
  "language_info": {
   "codemirror_mode": {
    "name": "ipython",
    "version": 3
   },
   "file_extension": ".py",
   "mimetype": "text/x-python",
   "name": "python",
   "nbconvert_exporter": "python",
   "pygments_lexer": "ipython3",
   "version": "3.12.2"
  }
 },
 "nbformat": 4,
 "nbformat_minor": 2
}
