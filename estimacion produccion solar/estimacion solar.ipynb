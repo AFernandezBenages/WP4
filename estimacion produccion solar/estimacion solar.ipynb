{
 "cells": [
  {
   "cell_type": "code",
   "execution_count": null,
   "metadata": {},
   "outputs": [],
   "source": [
    "import pyomo.environ as pyo\n",
    "import numpy as np\n",
    "import pandas as pd\n"
   ]
  },
  {
   "cell_type": "code",
   "execution_count": null,
   "metadata": {},
   "outputs": [],
   "source": [
    "\n",
    "nom = r\"C:\\Users\\afarriol\\Desktop\\Previa\\Python\\Model Complert\\lectura_fred.xlsx\"\n"
   ]
  },
  {
   "cell_type": "code",
   "execution_count": null,
   "metadata": {},
   "outputs": [],
   "source": [
    "\n",
    "\n",
    "irr_df = pd.read_excel(nom, sheet_name=\"irr\")\n",
    "t_out_df = pd.read_excel(nom, sheet_name='t_out')\n",
    "\n",
    "K = 24\n",
    "PPvn = 5\n",
    "\n",
    "irr = {(row['Hour']): row['Value'] for _, row in irr_df.iterrows()}\n",
    "t_out = {(row['K']): row['Value'] for _, row in t_out_df.iterrows()}\n",
    "\n",
    "\n",
    "tc = {}\n",
    "PV = {}\n",
    "for i in np.arange(1, K + 1):\n",
    "    tc[i] = 17.23292 + 0.451708 * t_out[i] + 0.022706 * irr[i]\n",
    "\n",
    "for i in np.arange(1, K + 1):\n",
    "    PV[i] = max(0, (((-0.062059 * irr[i] + 0.04277774) * tc[i] + 9.692792 * irr[i] - 1.885868)) * (PPvn / 6.6))\n",
    "\n",
    "print(PV)\n"
   ]
  }
 ],
 "metadata": {
  "language_info": {
   "name": "python"
  }
 },
 "nbformat": 4,
 "nbformat_minor": 2
}
